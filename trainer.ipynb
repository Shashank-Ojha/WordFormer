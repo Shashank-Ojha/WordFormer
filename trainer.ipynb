{
 "cells": [
  {
   "cell_type": "markdown",
   "metadata": {
    "colab_type": "text",
    "id": "view-in-github"
   },
   "source": [
    "<a href=\"https://colab.research.google.com/github/Shashank-Ojha/WordFormer/blob/main/trainer.ipynb\" target=\"_parent\"><img src=\"https://colab.research.google.com/assets/colab-badge.svg\" alt=\"Open In Colab\"/></a>"
   ]
  },
  {
   "cell_type": "code",
   "execution_count": 6,
   "metadata": {},
   "outputs": [
    {
     "name": "stdout",
     "output_type": "stream",
     "text": [
      "\u001b[33mDEPRECATION: Configuring installation scheme with distutils config files is deprecated and will no longer work in the near future. If you are using a Homebrew or Linuxbrew Python, please see discussion at https://github.com/Homebrew/homebrew-core/issues/76621\u001b[0m\u001b[33m\n",
      "\u001b[0m\u001b[33mWARNING: Ignoring invalid distribution - (/usr/local/lib/python3.7/site-packages)\u001b[0m\u001b[33m\n",
      "\u001b[0m\u001b[33mWARNING: Ignoring invalid distribution -cipy (/usr/local/lib/python3.7/site-packages)\u001b[0m\u001b[33m\n",
      "\u001b[0m\u001b[33mWARNING: Ignoring invalid distribution -ix (/usr/local/lib/python3.7/site-packages)\u001b[0m\u001b[33m\n",
      "\u001b[0m\u001b[33mWARNING: Ignoring invalid distribution -mportlib-metadata (/usr/local/lib/python3.7/site-packages)\u001b[0m\u001b[33m\n",
      "\u001b[0m\u001b[33mWARNING: Ignoring invalid distribution -rllib3 (/usr/local/lib/python3.7/site-packages)\u001b[0m\u001b[33m\n",
      "\u001b[0m\u001b[33mWARNING: Ignoring invalid distribution -uture (/usr/local/lib/python3.7/site-packages)\u001b[0m\u001b[33m\n",
      "\u001b[0m\u001b[33mWARNING: Ignoring invalid distribution -yglet (/usr/local/lib/python3.7/site-packages)\u001b[0m\u001b[33m\n",
      "\u001b[0mRequirement already satisfied: torch in /usr/local/lib/python3.7/site-packages (1.13.1)\n",
      "Requirement already satisfied: typing-extensions in /usr/local/lib/python3.7/site-packages (from torch) (3.7.4.3)\n",
      "\u001b[33mWARNING: Ignoring invalid distribution - (/usr/local/lib/python3.7/site-packages)\u001b[0m\u001b[33m\n",
      "\u001b[0m\u001b[33mWARNING: Ignoring invalid distribution -cipy (/usr/local/lib/python3.7/site-packages)\u001b[0m\u001b[33m\n",
      "\u001b[0m\u001b[33mWARNING: Ignoring invalid distribution -ix (/usr/local/lib/python3.7/site-packages)\u001b[0m\u001b[33m\n",
      "\u001b[0m\u001b[33mWARNING: Ignoring invalid distribution -mportlib-metadata (/usr/local/lib/python3.7/site-packages)\u001b[0m\u001b[33m\n",
      "\u001b[0m\u001b[33mWARNING: Ignoring invalid distribution -rllib3 (/usr/local/lib/python3.7/site-packages)\u001b[0m\u001b[33m\n",
      "\u001b[0m\u001b[33mWARNING: Ignoring invalid distribution -uture (/usr/local/lib/python3.7/site-packages)\u001b[0m\u001b[33m\n",
      "\u001b[0m\u001b[33mWARNING: Ignoring invalid distribution -yglet (/usr/local/lib/python3.7/site-packages)\u001b[0m\u001b[33m\n",
      "\u001b[0m\u001b[33mDEPRECATION: Configuring installation scheme with distutils config files is deprecated and will no longer work in the near future. If you are using a Homebrew or Linuxbrew Python, please see discussion at https://github.com/Homebrew/homebrew-core/issues/76621\u001b[0m\u001b[33m\n",
      "\u001b[0mThe autoreload extension is already loaded. To reload it, use:\n",
      "  %reload_ext autoreload\n"
     ]
    },
    {
     "data": {
      "text/plain": [
       "<torch._C.Generator at 0x1083bf710>"
      ]
     },
     "execution_count": 6,
     "metadata": {},
     "output_type": "execute_result"
    }
   ],
   "source": [
    "!pip install torch\n",
    "%load_ext autoreload\n",
    "%autoreload 2"
   ]
  },
  {
   "cell_type": "code",
   "execution_count": 30,
   "metadata": {},
   "outputs": [
    {
     "data": {
      "text/plain": [
       "<torch._C.Generator at 0x1083bf710>"
      ]
     },
     "execution_count": 30,
     "metadata": {},
     "output_type": "execute_result"
    }
   ],
   "source": [
    "import torch\n",
    "import torch.nn as nn\n",
    "from torch.nn import functional as F\n",
    "\n",
    "from utils.attention_block import SelfAttention\n",
    "from utils.prepare_data import read_file\n",
    "from utils.prepare_data import get_vocab\n",
    "from utils.prepare_data import train_validation_split\n",
    "from utils.prepare_data import get_batch\n",
    "\n",
    "# Set a seed for reproducibility\n",
    "torch.manual_seed(0)"
   ]
  },
  {
   "cell_type": "code",
   "execution_count": 8,
   "metadata": {},
   "outputs": [],
   "source": [
    "# Read text file, convert each token (char) into integers, and split data into train and validation data.\n",
    "text = read_file('shakespeare.txt')\n",
    "\n",
    "# Here are all the unique characters that occur in this text\n",
    "vocab, vocab_size = get_vocab(text)\n",
    "\n",
    "# create a mapping from characters to integers\n",
    "stoi = { ch:i for i,ch in enumerate(vocab) }\n",
    "itos = { i:ch for i,ch in enumerate(vocab) }\n",
    "encode = lambda s: [stoi[c] for c in s] # encoder: take a string, output a list of integers\n",
    "decode = lambda l: ''.join([itos[i] for i in l]) # decoder: take a list of integers, output a string\n",
    "\n",
    "# Train and test splits\n",
    "data = torch.tensor(encode(text), dtype=torch.long)\n",
    "train_data, val_data = train_validation_split(data, 0.9)"
   ]
  },
  {
   "cell_type": "code",
   "execution_count": 15,
   "metadata": {},
   "outputs": [
    {
     "name": "stdout",
     "output_type": "stream",
     "text": [
      "torch.Size([1115394])\n"
     ]
    }
   ],
   "source": [
    "print(data.shape)"
   ]
  },
  {
   "cell_type": "code",
   "execution_count": 38,
   "metadata": {},
   "outputs": [],
   "source": [
    "# ------ Hyperparameters ------\n",
    "\n",
    "# -- Data Breakdown\n",
    "batch_size = 4\n",
    "block_size = 8\n",
    "\n",
    "# -- Network Parameters\n",
    "# Embedding Block\n",
    "num_embeddings = vocab_size\n",
    "embedding_dim = 8\n",
    "\n",
    "# Attention Block\n",
    "kq_dim = 7\n",
    "v_dim = 6\n",
    "\n",
    "# -- Training Parameters\n",
    "\n",
    "device = 'cuda' if torch.cuda.is_available() else 'cpu'"
   ]
  },
  {
   "cell_type": "code",
   "execution_count": 51,
   "metadata": {},
   "outputs": [],
   "source": [
    "# Both x and y are (batch_size, block_size)\n",
    "x, y = get_batch(train_data, batch_size, 2)"
   ]
  },
  {
   "cell_type": "code",
   "execution_count": 67,
   "metadata": {},
   "outputs": [
    {
     "name": "stdout",
     "output_type": "stream",
     "text": [
      "torch.Size([4, 2, 65])\n",
      "\n",
      "rY,H:FLJ g3Si \n",
      "Q,OBupEko;.qac&$YIIDF'3.XgpfpLrKq&P'XsEsagmHzzvgMcYN?afrfoN?SljfGJdC?LPaROczL\n",
      "'3Z:D!cL.gOx,kUBVSvjY'BPLjV&rXXbG!zjzgl-KsOvAfqt!ICB3ds3ox&YzaXODpqUi$p33ilm$RlWjab3OA,lX'fc scRXjZVvpuFpwmqof,YtETzUvi3lnM:i,pE?aPCeSjLw3J-j$qaiCAhhlb3 ukqVcA3RHHElR3$twE$dMh 3lS\n",
      "DFpH:lyK.m,trFVjSCZfBy:.IEEYfk'EFH;wfZytP&\n",
      "T.PjtrcNIft?3$s-LlcmEytKzdDX!f:mVavEaL,MCy\n",
      "3&iF:t\n",
      "vVWdLxJJBCmggkJM$3ciyLWVJNY;D,Laasp?eJKgMigeL.riOmnluucfstUIONN,ccBJHJSedTHGX&Jiz'bsA3uJDFX;to?Pt aHJPlHvJlK-cjB ,Tm$c$?NE;:FlcBnsFr!o\n"
     ]
    }
   ],
   "source": [
    "# Define Network\n",
    "\n",
    "# Input Shape (batch_size, block_size). \n",
    "# Note block_size is not a parameters to the model, so it can accept arbitary\n",
    "# length contexts.\n",
    "model = nn.Sequential(\n",
    "    # Transforms shape to (batch_size, block_size, embedding_dim)\n",
    "    nn.Embedding(num_embeddings, embedding_dim),\n",
    "    # Transforms shape to (batch_size, block_size, v_dim)\n",
    "    SelfAttention(embedding_dim, kq_dim, v_dim),\n",
    "    # Transforms shape to (batch_size, block_size, vocab_size)\n",
    "    nn.Linear(v_dim, vocab_size)\n",
    "    \n",
    ")\n",
    "\n",
    "print(model(x).shape)\n",
    "\n",
    "def generate(model, context, max_context_size, max_new_tokens):\n",
    "    \"\"\"\n",
    "    context: array tokens with shape (B, t), where t can be any length.\n",
    "    \"\"\"\n",
    "    for _ in range(max_new_tokens):\n",
    "        sub_context = context if context.shape[1] < max_context_size else context[:, -max_context_size:]\n",
    "        # Shape = (batch_size, block_size, vocab_size)\n",
    "        logits = model(sub_context)\n",
    "        # Get the last character's predictions. Shape = (B, vocab_size)\n",
    "        logits = logits[:, -1, :]\n",
    "        probs = F.softmax(logits, dim=-1) \n",
    "        \n",
    "        # Sample from the distribution. Shape = (B, 1)\n",
    "        preds = torch.multinomial(probs, num_samples=1)   \n",
    "        \n",
    "        # Add to context\n",
    "        context = torch.cat((context, preds), dim=1)\n",
    "    return context\n",
    "        \n",
    "        \n",
    "\n",
    "context = torch.zeros((1, 1), dtype=torch.long, device=device)\n",
    "new_text = generate(model, context, block_size, max_new_tokens=500)\n",
    "print(decode(new_text[0].tolist()))"
   ]
  },
  {
   "cell_type": "code",
   "execution_count": null,
   "metadata": {},
   "outputs": [],
   "source": []
  },
  {
   "cell_type": "code",
   "execution_count": null,
   "metadata": {},
   "outputs": [],
   "source": []
  }
 ],
 "metadata": {
  "colab": {
   "authorship_tag": "ABX9TyNodZddeRw76af4YPftC9SV",
   "include_colab_link": true,
   "provenance": []
  },
  "kernelspec": {
   "display_name": "Python 3 (ipykernel)",
   "language": "python",
   "name": "python3"
  },
  "language_info": {
   "codemirror_mode": {
    "name": "ipython",
    "version": 3
   },
   "file_extension": ".py",
   "mimetype": "text/x-python",
   "name": "python",
   "nbconvert_exporter": "python",
   "pygments_lexer": "ipython3",
   "version": "3.7.7"
  },
  "vscode": {
   "interpreter": {
    "hash": "aee8b7b246df8f9039afb4144a1f6fd8d2ca17a180786b69acc140d282b71a49"
   }
  }
 },
 "nbformat": 4,
 "nbformat_minor": 1
}
