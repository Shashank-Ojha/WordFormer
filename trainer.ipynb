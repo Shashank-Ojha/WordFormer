{
 "cells": [
  {
   "cell_type": "markdown",
   "metadata": {
    "colab_type": "text",
    "id": "view-in-github"
   },
   "source": [
    "<a href=\"https://colab.research.google.com/github/Shashank-Ojha/WordFormer/blob/main/trainer.ipynb\" target=\"_parent\"><img src=\"https://colab.research.google.com/assets/colab-badge.svg\" alt=\"Open In Colab\"/></a>"
   ]
  },
  {
   "cell_type": "code",
   "execution_count": 1,
   "metadata": {},
   "outputs": [
    {
     "name": "stdout",
     "output_type": "stream",
     "text": [
      "\u001b[33mDEPRECATION: Configuring installation scheme with distutils config files is deprecated and will no longer work in the near future. If you are using a Homebrew or Linuxbrew Python, please see discussion at https://github.com/Homebrew/homebrew-core/issues/76621\u001b[0m\u001b[33m\n",
      "\u001b[0m\u001b[33mWARNING: Ignoring invalid distribution - (/usr/local/lib/python3.7/site-packages)\u001b[0m\u001b[33m\n",
      "\u001b[0m\u001b[33mWARNING: Ignoring invalid distribution -cipy (/usr/local/lib/python3.7/site-packages)\u001b[0m\u001b[33m\n",
      "\u001b[0m\u001b[33mWARNING: Ignoring invalid distribution -ix (/usr/local/lib/python3.7/site-packages)\u001b[0m\u001b[33m\n",
      "\u001b[0m\u001b[33mWARNING: Ignoring invalid distribution -mportlib-metadata (/usr/local/lib/python3.7/site-packages)\u001b[0m\u001b[33m\n",
      "\u001b[0m\u001b[33mWARNING: Ignoring invalid distribution -rllib3 (/usr/local/lib/python3.7/site-packages)\u001b[0m\u001b[33m\n",
      "\u001b[0m\u001b[33mWARNING: Ignoring invalid distribution -uture (/usr/local/lib/python3.7/site-packages)\u001b[0m\u001b[33m\n",
      "\u001b[0m\u001b[33mWARNING: Ignoring invalid distribution -yglet (/usr/local/lib/python3.7/site-packages)\u001b[0m\u001b[33m\n",
      "\u001b[0mRequirement already satisfied: torch in /usr/local/lib/python3.7/site-packages (1.13.1)\n",
      "Requirement already satisfied: typing-extensions in /usr/local/lib/python3.7/site-packages (from torch) (3.7.4.3)\n",
      "\u001b[33mWARNING: Ignoring invalid distribution - (/usr/local/lib/python3.7/site-packages)\u001b[0m\u001b[33m\n",
      "\u001b[0m\u001b[33mWARNING: Ignoring invalid distribution -cipy (/usr/local/lib/python3.7/site-packages)\u001b[0m\u001b[33m\n",
      "\u001b[0m\u001b[33mWARNING: Ignoring invalid distribution -ix (/usr/local/lib/python3.7/site-packages)\u001b[0m\u001b[33m\n",
      "\u001b[0m\u001b[33mWARNING: Ignoring invalid distribution -mportlib-metadata (/usr/local/lib/python3.7/site-packages)\u001b[0m\u001b[33m\n",
      "\u001b[0m\u001b[33mWARNING: Ignoring invalid distribution -rllib3 (/usr/local/lib/python3.7/site-packages)\u001b[0m\u001b[33m\n",
      "\u001b[0m\u001b[33mWARNING: Ignoring invalid distribution -uture (/usr/local/lib/python3.7/site-packages)\u001b[0m\u001b[33m\n",
      "\u001b[0m\u001b[33mWARNING: Ignoring invalid distribution -yglet (/usr/local/lib/python3.7/site-packages)\u001b[0m\u001b[33m\n",
      "\u001b[0m\u001b[33mDEPRECATION: Configuring installation scheme with distutils config files is deprecated and will no longer work in the near future. If you are using a Homebrew or Linuxbrew Python, please see discussion at https://github.com/Homebrew/homebrew-core/issues/76621\u001b[0m\u001b[33m\n",
      "\u001b[0m"
     ]
    }
   ],
   "source": [
    "!pip install torch\n",
    "%load_ext autoreload\n",
    "%autoreload 2"
   ]
  },
  {
   "cell_type": "code",
   "execution_count": 2,
   "metadata": {},
   "outputs": [
    {
     "data": {
      "text/plain": [
       "<torch._C.Generator at 0x11057f630>"
      ]
     },
     "execution_count": 2,
     "metadata": {},
     "output_type": "execute_result"
    }
   ],
   "source": [
    "import torch\n",
    "import torch.nn as nn\n",
    "from torch.nn import functional as F\n",
    "\n",
    "from utils.data_pipelines import read_file\n",
    "from utils.data_pipelines import get_vocab\n",
    "from utils.data_pipelines import train_validation_split\n",
    "from utils.data_pipelines import get_batch\n",
    "\n",
    "from utils.gpt import GPTConfig\n",
    "from utils.gpt import GPT\n",
    "\n",
    "from utils.loss import loss_fn\n",
    "from utils.loss import estimate_loss\n",
    "\n",
    "# Set a seed for reproducibility\n",
    "torch.manual_seed(0)"
   ]
  },
  {
   "cell_type": "code",
   "execution_count": 3,
   "metadata": {},
   "outputs": [],
   "source": [
    "# Read text file, convert each token (char) into integers, and split data into train and validation data.\n",
    "text = read_file('shakespeare.txt')\n",
    "\n",
    "# Here are all the unique characters that occur in this text\n",
    "vocab, vocab_size = get_vocab(text)\n",
    "\n",
    "# create a mapping from characters to integers\n",
    "stoi = { ch:i for i,ch in enumerate(vocab) }\n",
    "itos = { i:ch for i,ch in enumerate(vocab) }\n",
    "encode = lambda s: [stoi[c] for c in s] # encoder: take a string, output a list of integers\n",
    "decode = lambda l: ''.join([itos[i] for i in l]) # decoder: take a list of integers, output a string\n",
    "\n",
    "# Train and test splits\n",
    "data = torch.tensor(encode(text), dtype=torch.long)\n",
    "train_data, val_data = train_validation_split(data, 0.9)"
   ]
  },
  {
   "cell_type": "code",
   "execution_count": 4,
   "metadata": {},
   "outputs": [
    {
     "name": "stdout",
     "output_type": "stream",
     "text": [
      "torch.Size([1115394])\n"
     ]
    }
   ],
   "source": [
    "print(data.shape)"
   ]
  },
  {
   "cell_type": "code",
   "execution_count": 63,
   "metadata": {},
   "outputs": [
    {
     "name": "stdout",
     "output_type": "stream",
     "text": [
      "cpu\n"
     ]
    }
   ],
   "source": [
    "# ------ Hyperparameters ------\n",
    "\n",
    "# -- Data Breakdown\n",
    "batch_size = 64\n",
    "block_size = 16\n",
    "\n",
    "# -- Network Parameters\n",
    "# Embedding Block\n",
    "num_embeddings = vocab_size\n",
    "embedding_dim = 48\n",
    "\n",
    "# Blocks\n",
    "num_blocks = 3\n",
    "\n",
    "# Multi-Head Attention Block\n",
    "num_heads = 4\n",
    "kq_dim = 12\n",
    "v_dim = 12\n",
    "\n",
    "assert num_heads * v_dim == embedding_dim\n",
    "\n",
    "# -- Training Parameters\n",
    "learning_rate = 3e-4\n",
    "max_iters = 5000\n",
    "eval_iters = 1000\n",
    "\n",
    "device = 'cuda' if torch.cuda.is_available() else 'cpu'\n",
    "print(device)"
   ]
  },
  {
   "cell_type": "code",
   "execution_count": 64,
   "metadata": {},
   "outputs": [],
   "source": [
    "# Both x and y are (batch_size, block_size)\n",
    "x, y = get_batch(train_data, batch_size, block_size)"
   ]
  },
  {
   "cell_type": "code",
   "execution_count": 65,
   "metadata": {},
   "outputs": [
    {
     "name": "stdout",
     "output_type": "stream",
     "text": [
      "GPTConfig(vocab_size=65, max_seq_length=16, embed_dim=48, kq_dim=12, v_dim=12)\n",
      "torch.Size([64, 16, 65])\n"
     ]
    }
   ],
   "source": [
    "# -- Define Network\n",
    "config_dict = {\n",
    "    'vocab_size': vocab_size,\n",
    "    'max_seq_length': block_size,\n",
    "    'embed_dim': embedding_dim,\n",
    "    'num_blocks': num_blocks,\n",
    "    'num_heads': num_heads,\n",
    "    'kq_dim': kq_dim,\n",
    "    'v_dim': v_dim,\n",
    "}\n",
    "\n",
    "config = GPTConfig(**config_dict)\n",
    "print(config)\n",
    "\n",
    "# # Input Shape (batch_size, block_size). \n",
    "# # Note that while block_size is passed to the Self Attention module, it really is\n",
    "# # just an upper bound on the max block size. Any input shape of (batch_size, t) where\n",
    "# # t <= block_size is valid.\n",
    "model = GPT(config)\n",
    "\n",
    "m = model.to(device)\n",
    "x = x.to(device)\n",
    "\n",
    "# Expected output (batch_size, block_size, vocab_size)\n",
    "print(model(x).shape)"
   ]
  },
  {
   "cell_type": "code",
   "execution_count": 66,
   "metadata": {},
   "outputs": [
    {
     "name": "stdout",
     "output_type": "stream",
     "text": [
      "step <built-in function iter>: train loss 4.4503, val loss 4.4403\n",
      "step <built-in function iter>: train loss 2.2759, val loss 2.2887\n",
      "step <built-in function iter>: train loss 2.1380, val loss 2.1747\n",
      "step <built-in function iter>: train loss 2.0646, val loss 2.1116\n",
      "step <built-in function iter>: train loss 2.0159, val loss 2.0788\n",
      "step <built-in function iter>: train loss 1.9760, val loss 2.0511\n"
     ]
    }
   ],
   "source": [
    "# -- Training\n",
    "\n",
    "# Create a PyTorch optimizer\n",
    "optimizer = torch.optim.AdamW(m.parameters(), lr=learning_rate)\n",
    "\n",
    "# Training Loop\n",
    "for i in range(max_iters):\n",
    "    # Shape = (batch_size, block_size)\n",
    "    xb, yb = get_batch(train_data, batch_size, block_size)\n",
    "    xb, yb = xb.to(device), yb.to(device)\n",
    "    \n",
    "    # Zero out the gradients\n",
    "    optimizer.zero_grad()\n",
    "    \n",
    "    # Shape = (batch_size, block_size, vocab_size)\n",
    "    logits = m(xb)\n",
    "    \n",
    "    # Compute loss\n",
    "    loss = loss_fn(logits, yb)\n",
    "    loss.backward()\n",
    "\n",
    "    # Adjust weights\n",
    "    optimizer.step()\n",
    "    \n",
    "    # Gather data report\n",
    "    if i % eval_iters == 0 or i == max_iters - 1:\n",
    "        losses = estimate_loss(m, train_data, val_data, eval_iters, batch_size, block_size, device)\n",
    "        print(f\"step {iter}: train loss {losses['train']:.4f}, val loss {losses['val']:.4f}\")\n",
    "        "
   ]
  },
  {
   "cell_type": "code",
   "execution_count": 67,
   "metadata": {},
   "outputs": [
    {
     "name": "stdout",
     "output_type": "stream",
     "text": [
      "\n",
      "YORIOLO:\n",
      "To a wropart, so then tiaBseed my puk hauspgove, I I dent spead,\n",
      "Or rof s\n",
      "'t Ca dyou, grene; apmittre what wo\n",
      "sfes for hrobury seruou, not me cre farn:\n",
      "Grothe is rives vamew, and hixe ow\n",
      "But me or the e nther, hey crybe mere on it\n",
      "Ane a cetherr mocke ullene;\n",
      "I'd weally af sell havid trivoscke wellar, Sor-gert,\n",
      "et may.\n",
      "\n",
      "LUCELIZALO:\n",
      "Ford verese.\n",
      "\n",
      "YCOLALIUS:\n",
      "What sabes poord thad'd thy coulnod.\n",
      "DUKENS:\n",
      "Or boole; not.\n",
      "Pordst Myrizeswncer mest sod the imumis, ther awe,\n",
      "And tho tis deasencent\n"
     ]
    }
   ],
   "source": [
    "# Generate Shakespeare :)\n",
    "context = torch.zeros((1, 1), dtype=torch.long, device=device)\n",
    "new_text = model.generate(context, max_new_tokens=500)\n",
    "print(decode(new_text[0].tolist()))"
   ]
  },
  {
   "cell_type": "code",
   "execution_count": null,
   "metadata": {},
   "outputs": [],
   "source": []
  }
 ],
 "metadata": {
  "colab": {
   "authorship_tag": "ABX9TyNodZddeRw76af4YPftC9SV",
   "include_colab_link": true,
   "provenance": []
  },
  "kernelspec": {
   "display_name": "Python 3 (ipykernel)",
   "language": "python",
   "name": "python3"
  },
  "language_info": {
   "codemirror_mode": {
    "name": "ipython",
    "version": 3
   },
   "file_extension": ".py",
   "mimetype": "text/x-python",
   "name": "python",
   "nbconvert_exporter": "python",
   "pygments_lexer": "ipython3",
   "version": "3.7.7"
  },
  "vscode": {
   "interpreter": {
    "hash": "aee8b7b246df8f9039afb4144a1f6fd8d2ca17a180786b69acc140d282b71a49"
   }
  }
 },
 "nbformat": 4,
 "nbformat_minor": 1
}
